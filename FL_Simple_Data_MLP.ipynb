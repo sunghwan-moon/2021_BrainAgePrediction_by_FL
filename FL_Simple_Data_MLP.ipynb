{
  "nbformat": 4,
  "nbformat_minor": 0,
  "metadata": {
    "colab": {
      "name": "FL_Simple_Data_MLP",
      "provenance": [],
      "collapsed_sections": [],
      "machine_shape": "hm",
      "authorship_tag": "ABX9TyMBG7SRkpnllvAbM3h2GKid",
      "include_colab_link": true
    },
    "kernelspec": {
      "name": "python3",
      "display_name": "Python 3"
    },
    "language_info": {
      "name": "python"
    },
    "accelerator": "GPU"
  },
  "cells": [
    {
      "cell_type": "markdown",
      "metadata": {
        "id": "view-in-github",
        "colab_type": "text"
      },
      "source": [
        "<a href=\"https://colab.research.google.com/github/sunghwan-moon/2021_capstone_BrainAgePrediction_by_Federated_Learning/blob/main/FL_Simple_Data_MLP.ipynb\" target=\"_parent\"><img src=\"https://colab.research.google.com/assets/colab-badge.svg\" alt=\"Open In Colab\"/></a>"
      ]
    },
    {
      "cell_type": "code",
      "metadata": {
        "id": "ZWwyNIZgvJkj"
      },
      "source": [
        "#!pip install tensorflow_federated\n",
        "#!pip install nilearn\n",
        "#!pip install transformations\n",
        "#!pip install nest_asyncio"
      ],
      "execution_count": null,
      "outputs": []
    },
    {
      "cell_type": "code",
      "metadata": {
        "id": "8uOzLyzTvJm2"
      },
      "source": [
        "import collections\n",
        "from nilearn import image\n",
        "import numpy as np\n",
        "import tensorflow as tf\n",
        "import tensorflow_federated as tff\n",
        "import threading\n",
        "from transformations import rotation_matrix\n",
        "from random import gauss\n",
        "from scipy.ndimage.interpolation import map_coordinates\n",
        "import operator\n",
        "from scipy.ndimage.interpolation import shift,rotate\n",
        "import pandas as pd\n",
        "import os\n",
        "import scipy.ndimage as nd\n",
        "from sklearn.model_selection import train_test_split\n",
        "from sklearn.metrics import r2_score,mean_absolute_error\n",
        "import numpy as np\n",
        "import matplotlib.pyplot as plt\n",
        "import math\n",
        "import sys\n",
        "import random\n",
        "import glob\n",
        "import nibabel as nib\n",
        "from collections import defaultdict\n",
        "from tensorflow.keras.utils import Sequence\n",
        "import nest_asyncio\n",
        "nest_asyncio.apply()\n",
        "#from tensorflow.keras.layers import Dense, Dropout, Activation, Flatten, Input, add, concatenate,GlobalAveragePooling3D,Conv3D,LeakyReLU,ELU, MaxPooling3D,AveragePooling3D\n",
        "from tensorflow.keras.regularizers import l2 as L2\n",
        "from tensorflow.keras.models import Model, Sequential\n",
        "from tensorflow.keras.wrappers.scikit_learn import KerasRegressor\n",
        "from tensorflow.keras.optimizers import Adam, SGD,Adagrad\n",
        "from keras.engine.topology import Layer\n",
        "from keras.layers import BatchNormalization\n",
        "from keras.layers import Input, InputLayer, InputSpec\n",
        "#from tensorflow.keras import backend as K\n",
        "#from tensorflow.keras.callbacks import TensorBoard, EarlyStopping\n",
        "#import tensorflow.compat.v1 as tf\n",
        "# tf.compat.v1.enable_v2_behavior()\n",
        "# tf.compat.v1.enable_eager_execution()\n",
        "\n",
        "from tensorflow.compat.v1 import keras\n",
        "from tensorflow.compat.v1.keras.layers import Dense, Dropout, Activation, Flatten, Input, add, concatenate,GlobalAveragePooling3D,Conv3D,LeakyReLU,ELU, MaxPooling3D,AveragePooling3D\n",
        "from tensorflow.keras import layers"
      ],
      "execution_count": null,
      "outputs": []
    },
    {
      "cell_type": "code",
      "metadata": {
        "colab": {
          "base_uri": "https://localhost:8080/"
        },
        "id": "eSI_JnviudUC",
        "outputId": "e475a576-d90f-4268-ce21-20e75b120dcd"
      },
      "source": [
        "from google.colab import drive\n",
        "drive.mount('/content/drive')"
      ],
      "execution_count": null,
      "outputs": [
        {
          "output_type": "stream",
          "text": [
            "Drive already mounted at /content/drive; to attempt to forcibly remount, call drive.mount(\"/content/drive\", force_remount=True).\n"
          ],
          "name": "stdout"
        }
      ]
    },
    {
      "cell_type": "code",
      "metadata": {
        "id": "ZpVB6bHuMc3P"
      },
      "source": [
        "def getData(path):\n",
        "  original_data = pd.read_excel(path)\n",
        "  original_data.dropna(inplace=True)\n",
        "  original_data.drop([\"ID\",\"Sex\"], axis = 1, inplace=True)\n",
        "\n",
        "  train, test = train_test_split(original_data, test_size = 0.2, random_state =100)\n",
        "\n",
        "\n",
        "  x_train = train.drop([\"Age\"],axis=1).to_numpy(np.float32)\n",
        "  y_train = train[\"Age\"].to_numpy(np.float32)\n",
        "\n",
        "  x_test = test.drop([\"Age\"],axis=1).to_numpy(np.float32)\n",
        "  y_test = test[\"Age\"].to_numpy(np.float32)\n",
        "\n",
        "  return x_train, y_train, x_test, y_test"
      ],
      "execution_count": null,
      "outputs": []
    },
    {
      "cell_type": "code",
      "metadata": {
        "id": "qPRODWkRLDm3"
      },
      "source": [
        "x_train, y_trainm, x_test, y_test = getData('/content/drive/MyDrive/소융_캡스톤/뇌 MRI 사진_교수님/IXI_train_test_age.xlsx')"
      ],
      "execution_count": null,
      "outputs": []
    },
    {
      "cell_type": "code",
      "metadata": {
        "colab": {
          "base_uri": "https://localhost:8080/"
        },
        "id": "yqhxxqsmREuk",
        "outputId": "949a86c2-959c-4ee5-ef78-c0dba293d76d"
      },
      "source": [
        "num_train_image = len(x_train)\n",
        "num_test_image= len(x_test)\n",
        "print(\"Train set: \", num_train_image)\n",
        "print(\"Test set: \", num_test_image)\n",
        "print(\"Train set Shape: \", x_train.shape)"
      ],
      "execution_count": null,
      "outputs": [
        {
          "output_type": "stream",
          "text": [
            "Train set:  370\n",
            "Test set:  93\n",
            "Train set Shape:  (370, 69)\n"
          ],
          "name": "stdout"
        }
      ]
    },
    {
      "cell_type": "code",
      "metadata": {
        "id": "ASN3hSWJmpVr"
      },
      "source": [
        "#client Data Non-iid 형태로 만들기 // 중복X\n",
        "\n",
        "def Make_data_to_Non_RE_Client_data(num_train_image, Client_num, x_train, y_train):\n",
        "  client_train_dataset = collections.OrderedDict()\n",
        "  partition_Start = 0\n",
        "  partition_End = int(num_train_image/Client_num - 1)\n",
        "\n",
        "  for i in range(0, Client_num):\n",
        "    client_key = \"client_\" + str(i+1) # client_1, client_2 .....\n",
        "\n",
        "    train_data = collections.OrderedDict((('features', x_train[partition_Start:partition_End]),('label', y_train[partition_Start:partition_End])))\n",
        "    client_train_dataset[client_key] = train_data\n",
        "    partition_Start = partition_End + 1\n",
        "    partition_End = int(partition_End + num_train_image/Client_num - 1)\n",
        "\n",
        "  #tensorSliceClientData를 simulation의 instance로 변환\n",
        "  train_dataset = tff.simulation.datasets.TestClientData(client_train_dataset)\n",
        "\n",
        "  return train_dataset"
      ],
      "execution_count": null,
      "outputs": []
    },
    {
      "cell_type": "code",
      "metadata": {
        "id": "TX_FEmmWyFmX"
      },
      "source": [
        "#client Data Non-iid 형태로 만들기 // 중복 허용\n",
        "\n",
        "def Make_data_to_RE_Client_data(num_train_image, Client_num, x_train, y_train):\n",
        "  client_train_dataset = collections.OrderedDict()\n",
        "  Client_num = 4\n",
        "  for i in range(0, Client_num):\n",
        "    client_key = \"client_\" + str(i+1) # client_1, client_2 .....\n",
        "\n",
        "  # non-iid를 위한 random sampling\n",
        "    front_train = random.randint(1, num_train_image)\n",
        "    rear_train = random.randint(front_train, num_train_image)\n",
        "\n",
        "    train_data = collections.OrderedDict((('features', x_train[front_train:rear_train]),('label', y_train[front_train:rear_train])))\n",
        "    client_train_dataset[client_key] = train_data\n",
        "\n",
        "  #tensorSliceClientData를 simulation의 instance로 변환\n",
        "  train_dataset = tff.simulation.datasets.TestClientData(client_train_dataset)\n",
        "\n",
        "  return train_dataset"
      ],
      "execution_count": null,
      "outputs": []
    },
    {
      "cell_type": "code",
      "metadata": {
        "id": "B5_BZzFUk4S3"
      },
      "source": [
        "#총 Client 수 결정\n",
        "\n",
        "Original_Client_data = Make_data_to_Non_RE_Client_data(num_train_image, 4, x_train, y_train)"
      ],
      "execution_count": null,
      "outputs": []
    },
    {
      "cell_type": "code",
      "metadata": {
        "id": "sEzdKf7RJiUP"
      },
      "source": [
        "# 각 Client 별로 학습할 데이터 추출\n",
        "\n",
        "NUM_EPOCHS = 10\n",
        "BATCH_SIZE = 100 #각 Client가 가질 데이터 수\n",
        "SHUFFLE_BUFFER = 10\n",
        "PREFETCH_BUFFER = 10\n",
        "\n",
        "def preprocess(dataset):\n",
        "\n",
        "  def batch_format_fn(element):\n",
        "    return collections.OrderedDict(\n",
        "        x=tf.reshape(element[\"features\"], [-1,69]),\n",
        "        y=tf.reshape(element[\"label\"], [-1, 1]))\n",
        "\n",
        "  return dataset.repeat(NUM_EPOCHS).shuffle(SHUFFLE_BUFFER).batch(\n",
        "      BATCH_SIZE).prefetch(PREFETCH_BUFFER).map(batch_format_fn)"
      ],
      "execution_count": null,
      "outputs": []
    },
    {
      "cell_type": "code",
      "metadata": {
        "id": "vwLkZsUYJiWY"
      },
      "source": [
        "def make_federated_data(client_data, client_ids):\n",
        "  result_list = []\n",
        "  for id in client_ids:\n",
        "    preprocess_data = preprocess(client_data.create_tf_dataset_for_client(id))\n",
        "    sample = tf.nest.map_structure(lambda x: x.numpy(),next(iter(preprocess_data)))\n",
        "    result_list.append(preprocess_data)\n",
        "  print(\"Each client data size : \", len(sample[\"y\"]))\n",
        "  return result_list"
      ],
      "execution_count": null,
      "outputs": []
    },
    {
      "cell_type": "code",
      "metadata": {
        "colab": {
          "base_uri": "https://localhost:8080/"
        },
        "id": "OuY_ubCZ5SsU",
        "outputId": "c8313521-328d-4948-e5df-976d8fa75957"
      },
      "source": [
        "sample_clients = Original_Client_data.client_ids[0:4]\n",
        "\n",
        "federated_train_data = make_federated_data(Original_Client_data, sample_clients)\n",
        "\n",
        "print('Number of client datasets: {l}'.format(l=len(federated_train_data)))\n",
        "print('First dataset: {d}'.format(d=federated_train_data[0]))\n",
        "print(\"input_spec : {n}\".format(n = federated_train_data[0].element_spec))"
      ],
      "execution_count": null,
      "outputs": [
        {
          "output_type": "stream",
          "text": [
            "Each client data size :  100\n",
            "Number of client datasets: 4\n",
            "First dataset: <MapDataset shapes: OrderedDict([(x, (None, 69)), (y, (None, 1))]), types: OrderedDict([(x, tf.float32), (y, tf.float32)])>\n",
            "input_spec : OrderedDict([('x', TensorSpec(shape=(None, 69), dtype=tf.float32, name=None)), ('y', TensorSpec(shape=(None, 1), dtype=tf.float32, name=None))])\n"
          ],
          "name": "stdout"
        }
      ]
    },
    {
      "cell_type": "code",
      "metadata": {
        "id": "fpCKcz3_Sh1J"
      },
      "source": [
        "def build_model():\n",
        "  model = keras.Sequential([\n",
        "   layers.Dense(1, input_shape=(69,), activation = 'linear'),\n",
        "   #layers.Dense(10),\n",
        "   #layers.Dense(5, activation= 'linear'),\n",
        "   #layers.Dense(1, activation=\"linear\")\n",
        "  ])\n",
        "  return model"
      ],
      "execution_count": null,
      "outputs": []
    },
    {
      "cell_type": "code",
      "metadata": {
        "id": "QqNBXSI1J1ul"
      },
      "source": [
        "def model_fn():\n",
        "    keras_model = build_model()\n",
        "    return tff.learning.from_keras_model(\n",
        "      keras_model,\n",
        "      input_spec=federated_train_data[0].element_spec,\n",
        "      loss=tf.keras.losses.MeanAbsoluteError(),\n",
        "      metrics=[tf.keras.metrics.MeanAbsoluteError()])"
      ],
      "execution_count": null,
      "outputs": []
    },
    {
      "cell_type": "code",
      "metadata": {
        "id": "Zc2XHN_nJ1xF"
      },
      "source": [
        "def initialize_fn():\n",
        "  model = model_fn()\n",
        "  return model.trainable_variables"
      ],
      "execution_count": null,
      "outputs": []
    },
    {
      "cell_type": "code",
      "metadata": {
        "id": "-TA7GiihL8w2"
      },
      "source": [
        "def next_fn(server_weights, federated_dataset):\n",
        "  server_weights_at_client = broadcast(server_weights)\n",
        "  client_weights = client_update(federated_dataset, server_weights_at_client)\n",
        "  mean_client_weights = mean(client_weights)\n",
        "  server_weights = server_update(mean_client_weights)\n",
        "  \n",
        "  return server_weights"
      ],
      "execution_count": null,
      "outputs": []
    },
    {
      "cell_type": "code",
      "metadata": {
        "id": "U62TEoSGJ1zg"
      },
      "source": [
        "@tf.function\n",
        "def client_update(model, dataset, server_weights, client_optimizer):\n",
        "  print(\"client_update tf.fn\")\n",
        "  client_weights = model.trainable_variables\n",
        "  tf.nest.map_structure(lambda x, y: x.assign(y),\n",
        "                        client_weights, server_weights)\n",
        "  \n",
        "  for batch in dataset:\n",
        "      with tf.GradientTape() as tape:\n",
        "        outputs = model.forward_pass(batch)\n",
        "\n",
        "      grads = tape.gradient(outputs.loss, client_weights)\n",
        "      grads_and_vars = zip(grads, client_weights)\n",
        "\n",
        "      client_optimizer.apply_gradients(grads_and_vars)\n",
        "\n",
        "  return client_weights"
      ],
      "execution_count": null,
      "outputs": []
    },
    {
      "cell_type": "code",
      "metadata": {
        "id": "nW43-L6XMsp_"
      },
      "source": [
        "@tf.function\n",
        "def server_update(model, mean_client_weights):\n",
        "  model_weights = model.trainable_variables\n",
        "  tf.nest.map_structure(lambda x, y: x.assign(y),\n",
        "                        model_weights, mean_client_weights)\n",
        "  return model_weights"
      ],
      "execution_count": null,
      "outputs": []
    },
    {
      "cell_type": "code",
      "metadata": {
        "id": "1R9AlzSoM68n"
      },
      "source": [
        "@tff.tf_computation\n",
        "def server_init():\n",
        "  model = model_fn()\n",
        "  return model.trainable_variables"
      ],
      "execution_count": null,
      "outputs": []
    },
    {
      "cell_type": "code",
      "metadata": {
        "id": "xRTAvFYSNLWw"
      },
      "source": [
        "@tff.federated_computation\n",
        "def initialize_fn():\n",
        "  return tff.federated_value(server_init(),tff.SERVER)"
      ],
      "execution_count": null,
      "outputs": []
    },
    {
      "cell_type": "code",
      "metadata": {
        "id": "qKU83IOARr4Q"
      },
      "source": [
        "tf_dataset_type = tff.SequenceType(model_fn().input_spec)"
      ],
      "execution_count": null,
      "outputs": []
    },
    {
      "cell_type": "code",
      "metadata": {
        "colab": {
          "base_uri": "https://localhost:8080/",
          "height": 35
        },
        "id": "FXXONLj2tJD7",
        "outputId": "f120285b-8554-4b3c-efeb-551a05d5aefa"
      },
      "source": [
        "str(tf_dataset_type)"
      ],
      "execution_count": null,
      "outputs": [
        {
          "output_type": "execute_result",
          "data": {
            "application/vnd.google.colaboratory.intrinsic+json": {
              "type": "string"
            },
            "text/plain": [
              "'<x=float32[?,69],y=float32[?,1]>*'"
            ]
          },
          "metadata": {
            "tags": []
          },
          "execution_count": 304
        }
      ]
    },
    {
      "cell_type": "code",
      "metadata": {
        "id": "ayeRWd3iPv-1"
      },
      "source": [
        "model_weights_type = server_init.type_signature.result"
      ],
      "execution_count": null,
      "outputs": []
    },
    {
      "cell_type": "code",
      "metadata": {
        "colab": {
          "base_uri": "https://localhost:8080/",
          "height": 35
        },
        "id": "m2_pNGxwtLzT",
        "outputId": "be8cd7dd-3de8-4d4e-9fec-6f4e781841b0"
      },
      "source": [
        "str(model_weights_type)"
      ],
      "execution_count": null,
      "outputs": [
        {
          "output_type": "execute_result",
          "data": {
            "application/vnd.google.colaboratory.intrinsic+json": {
              "type": "string"
            },
            "text/plain": [
              "'<float32[69,1],float32[1]>'"
            ]
          },
          "metadata": {
            "tags": []
          },
          "execution_count": 306
        }
      ]
    },
    {
      "cell_type": "code",
      "metadata": {
        "id": "fodKTfXYjgQB",
        "colab": {
          "base_uri": "https://localhost:8080/"
        },
        "outputId": "842526e4-0062-4f3d-fc20-dae17316ca5f"
      },
      "source": [
        "@tff.tf_computation(tf_dataset_type, model_weights_type)\n",
        "def client_update_fn(tf_dataset, server_weights):\n",
        "  model = model_fn()\n",
        "  client_optimizer = tf.keras.optimizers.SGD(learning_rate=0.01) #Adam, SGD\n",
        "  return client_update(model, tf_dataset, server_weights, client_optimizer)"
      ],
      "execution_count": null,
      "outputs": [
        {
          "output_type": "stream",
          "text": [
            "client_update tf.fn\n"
          ],
          "name": "stdout"
        }
      ]
    },
    {
      "cell_type": "code",
      "metadata": {
        "id": "yjH5-w__P-f3"
      },
      "source": [
        "@tff.tf_computation(model_weights_type)\n",
        "def server_update_fn(mean_client_weights):\n",
        "  model = model_fn()\n",
        "  return server_update(model, mean_client_weights)"
      ],
      "execution_count": null,
      "outputs": []
    },
    {
      "cell_type": "code",
      "metadata": {
        "id": "nOt9z2szQByy"
      },
      "source": [
        "federated_server_type = tff.FederatedType(model_weights_type, tff.SERVER)\n",
        "federated_dataset_type = tff.FederatedType(tf_dataset_type, tff.CLIENTS)"
      ],
      "execution_count": null,
      "outputs": []
    },
    {
      "cell_type": "code",
      "metadata": {
        "colab": {
          "base_uri": "https://localhost:8080/",
          "height": 35
        },
        "id": "2GLH0pKutrQ-",
        "outputId": "07340bcd-aae2-46ae-8f79-ed69fbb9f0a7"
      },
      "source": [
        "str(federated_dataset_type)"
      ],
      "execution_count": null,
      "outputs": [
        {
          "output_type": "execute_result",
          "data": {
            "application/vnd.google.colaboratory.intrinsic+json": {
              "type": "string"
            },
            "text/plain": [
              "'{<x=float32[?,69],y=float32[?,1]>*}@CLIENTS'"
            ]
          },
          "metadata": {
            "tags": []
          },
          "execution_count": 324
        }
      ]
    },
    {
      "cell_type": "code",
      "metadata": {
        "id": "mf81urj0ttyR",
        "colab": {
          "base_uri": "https://localhost:8080/",
          "height": 35
        },
        "outputId": "c2f9fcdb-f2bc-4427-ab45-a71cc5c48cf7"
      },
      "source": [
        "str(federated_server_type)"
      ],
      "execution_count": null,
      "outputs": [
        {
          "output_type": "execute_result",
          "data": {
            "application/vnd.google.colaboratory.intrinsic+json": {
              "type": "string"
            },
            "text/plain": [
              "'<float32[69,1],float32[1]>@SERVER'"
            ]
          },
          "metadata": {
            "tags": []
          },
          "execution_count": 325
        }
      ]
    },
    {
      "cell_type": "code",
      "metadata": {
        "id": "-LusuOlaQDUu"
      },
      "source": [
        "# 양자화 가능!!!\n",
        "@tff.federated_computation(federated_server_type, federated_dataset_type)\n",
        "def next_fn(server_weights, federated_dataset):\n",
        "  server_weights_at_client = tff.federated_broadcast(server_weights)\n",
        "  client_weights = tff.federated_map(\n",
        "        client_update_fn, (federated_dataset, server_weights_at_client))\n",
        "  mean_client_weights = tff.federated_mean(client_weights)\n",
        "  server_weights = tff.federated_map(server_update_fn, mean_client_weights)\n",
        "\n",
        "  return server_weights"
      ],
      "execution_count": null,
      "outputs": []
    },
    {
      "cell_type": "code",
      "metadata": {
        "id": "he6OegMKohkp"
      },
      "source": [
        "#iterative_process = tff.learning.build_federated_averaging_process(\n",
        "#    model_fn,\n",
        "#    client_optimizer_fn=lambda: tf.keras.optimizers.Adam(learning_rate=0.02),\n",
        "#    server_optimizer_fn=lambda: tf.keras.optimizers.SGD(learning_rate=1.0))"
      ],
      "execution_count": null,
      "outputs": []
    },
    {
      "cell_type": "code",
      "metadata": {
        "id": "muGIQiCvs4FW"
      },
      "source": [
        "#str(iterative_process.initialize.type_signature)"
      ],
      "execution_count": null,
      "outputs": []
    },
    {
      "cell_type": "code",
      "metadata": {
        "id": "wP8sJ7iTQHhq"
      },
      "source": [
        "federated_algorithm = tff.templates.IterativeProcess(\n",
        "      initialize_fn=initialize_fn,\n",
        "      next_fn=next_fn\n",
        "    )"
      ],
      "execution_count": null,
      "outputs": []
    },
    {
      "cell_type": "code",
      "metadata": {
        "id": "NaTdm9mRQSEt"
      },
      "source": [
        "def evaluate(server_state):\n",
        "  keras_model = build_model()\n",
        "  keras_model.compile(\n",
        "      loss=tf.keras.losses.MeanAbsoluteError(),\n",
        "      metrics=[tf.keras.metrics.MeanAbsoluteError()]\n",
        "  )\n",
        "  results = keras_model.evaluate(x_test, y_test)"
      ],
      "execution_count": null,
      "outputs": []
    },
    {
      "cell_type": "code",
      "metadata": {
        "id": "bJLr7i0pQYMd"
      },
      "source": [
        "server_state = federated_algorithm.initialize()"
      ],
      "execution_count": null,
      "outputs": []
    },
    {
      "cell_type": "code",
      "metadata": {
        "id": "vSB5-3FVpfSz"
      },
      "source": [
        "#state = iterative_process.initialize()"
      ],
      "execution_count": null,
      "outputs": []
    },
    {
      "cell_type": "code",
      "metadata": {
        "id": "yTOKj6MGzuZq",
        "colab": {
          "base_uri": "https://localhost:8080/"
        },
        "outputId": "1b970a2d-65ad-4906-af7f-97a0ebb27d20"
      },
      "source": [
        "evaluate(server_state)\n",
        "#evaluate(state)"
      ],
      "execution_count": null,
      "outputs": [
        {
          "output_type": "stream",
          "text": [
            "3/3 [==============================] - 0s 2ms/step - loss: 472.2916 - mean_absolute_error: 472.2916\n"
          ],
          "name": "stdout"
        }
      ]
    },
    {
      "cell_type": "code",
      "metadata": {
        "id": "a2GFFLyxdOpy",
        "colab": {
          "base_uri": "https://localhost:8080/"
        },
        "outputId": "5746a25c-4058-4cce-c1a2-78b93c21a1a2"
      },
      "source": [
        "for round in range(100):\n",
        "  print(\"round \",round+1)\n",
        "  server_state = federated_algorithm.next(server_state, federated_train_data)\n",
        "  #state = iterative_process.next(state, federated_train_data)\n",
        "  evaluate(server_state)\n",
        "  #evaluate(state)\n",
        "  print(\"\")"
      ],
      "execution_count": null,
      "outputs": [
        {
          "output_type": "stream",
          "text": [
            "round  1\n",
            "3/3 [==============================] - 0s 3ms/step - loss: 180.8625 - mean_absolute_error: 180.8625\n",
            "\n",
            "round  2\n",
            "3/3 [==============================] - 0s 3ms/step - loss: 456.8864 - mean_absolute_error: 456.8864\n",
            "\n",
            "round  3\n",
            "3/3 [==============================] - 0s 2ms/step - loss: 204.9520 - mean_absolute_error: 204.9520\n",
            "\n",
            "round  4\n",
            "3/3 [==============================] - 0s 3ms/step - loss: 426.3410 - mean_absolute_error: 426.3410\n",
            "\n",
            "round  5\n",
            "3/3 [==============================] - 0s 3ms/step - loss: 285.2712 - mean_absolute_error: 285.2712\n",
            "\n",
            "round  6\n",
            "3/3 [==============================] - 0s 3ms/step - loss: 224.9111 - mean_absolute_error: 224.9111\n",
            "\n",
            "round  7\n",
            "3/3 [==============================] - 0s 2ms/step - loss: 26.9128 - mean_absolute_error: 26.9128\n",
            "\n",
            "round  8\n",
            "3/3 [==============================] - 0s 3ms/step - loss: 320.3269 - mean_absolute_error: 320.3269\n",
            "\n",
            "round  9\n",
            "3/3 [==============================] - 0s 2ms/step - loss: 27.1643 - mean_absolute_error: 27.1643\n",
            "\n",
            "round  10\n",
            "3/3 [==============================] - 0s 3ms/step - loss: 38.2299 - mean_absolute_error: 38.2299\n",
            "\n",
            "round  11\n",
            "3/3 [==============================] - 0s 2ms/step - loss: 85.5229 - mean_absolute_error: 85.5229\n",
            "\n",
            "round  12\n",
            "3/3 [==============================] - 0s 2ms/step - loss: 332.0626 - mean_absolute_error: 332.0626\n",
            "\n",
            "round  13\n",
            "3/3 [==============================] - 0s 2ms/step - loss: 360.9767 - mean_absolute_error: 360.9767\n",
            "\n",
            "round  14\n",
            "3/3 [==============================] - 0s 2ms/step - loss: 294.2784 - mean_absolute_error: 294.2784\n",
            "\n",
            "round  15\n",
            "3/3 [==============================] - 0s 3ms/step - loss: 237.7536 - mean_absolute_error: 237.7536\n",
            "\n",
            "round  16\n",
            "3/3 [==============================] - 0s 2ms/step - loss: 208.4802 - mean_absolute_error: 208.4802\n",
            "\n",
            "round  17\n",
            "3/3 [==============================] - 0s 3ms/step - loss: 131.6559 - mean_absolute_error: 131.6559\n",
            "\n",
            "round  18\n",
            "3/3 [==============================] - 0s 2ms/step - loss: 252.5859 - mean_absolute_error: 252.5859\n",
            "\n",
            "round  19\n",
            "3/3 [==============================] - 0s 3ms/step - loss: 182.3963 - mean_absolute_error: 182.3963\n",
            "\n",
            "round  20\n",
            "3/3 [==============================] - 0s 3ms/step - loss: 306.3306 - mean_absolute_error: 306.3306\n",
            "\n",
            "round  21\n",
            "3/3 [==============================] - 0s 2ms/step - loss: 103.9833 - mean_absolute_error: 103.9833\n",
            "\n",
            "round  22\n",
            "3/3 [==============================] - 0s 3ms/step - loss: 173.7062 - mean_absolute_error: 173.7062\n",
            "\n",
            "round  23\n",
            "3/3 [==============================] - 0s 3ms/step - loss: 265.9313 - mean_absolute_error: 265.9313\n",
            "\n",
            "round  24\n",
            "3/3 [==============================] - 0s 3ms/step - loss: 92.2355 - mean_absolute_error: 92.2355\n",
            "\n",
            "round  25\n",
            "3/3 [==============================] - 0s 3ms/step - loss: 196.6646 - mean_absolute_error: 196.6646\n",
            "\n",
            "round  26\n",
            "3/3 [==============================] - 0s 3ms/step - loss: 127.3268 - mean_absolute_error: 127.3268\n",
            "\n",
            "round  27\n",
            "3/3 [==============================] - 0s 2ms/step - loss: 72.2327 - mean_absolute_error: 72.2327\n",
            "\n",
            "round  28\n",
            "3/3 [==============================] - 0s 3ms/step - loss: 36.1997 - mean_absolute_error: 36.1997\n",
            "\n",
            "round  29\n",
            "3/3 [==============================] - 0s 2ms/step - loss: 393.5591 - mean_absolute_error: 393.5591\n",
            "\n",
            "round  30\n",
            "3/3 [==============================] - 0s 3ms/step - loss: 405.9637 - mean_absolute_error: 405.9637\n",
            "\n",
            "round  31\n",
            "3/3 [==============================] - 0s 3ms/step - loss: 120.5020 - mean_absolute_error: 120.5020\n",
            "\n",
            "round  32\n",
            "3/3 [==============================] - 0s 3ms/step - loss: 226.1737 - mean_absolute_error: 226.1737\n",
            "\n",
            "round  33\n",
            "3/3 [==============================] - 0s 2ms/step - loss: 58.4647 - mean_absolute_error: 58.4647\n",
            "\n",
            "round  34\n",
            "3/3 [==============================] - 0s 2ms/step - loss: 303.8981 - mean_absolute_error: 303.8981\n",
            "\n",
            "round  35\n",
            "3/3 [==============================] - 0s 3ms/step - loss: 281.2365 - mean_absolute_error: 281.2365\n",
            "\n",
            "round  36\n",
            "3/3 [==============================] - 0s 3ms/step - loss: 330.8759 - mean_absolute_error: 330.8759\n",
            "\n",
            "round  37\n",
            "3/3 [==============================] - 0s 2ms/step - loss: 309.6835 - mean_absolute_error: 309.6835\n",
            "\n",
            "round  38\n",
            "3/3 [==============================] - 0s 3ms/step - loss: 57.2669 - mean_absolute_error: 57.2669\n",
            "\n",
            "round  39\n",
            "3/3 [==============================] - 0s 2ms/step - loss: 353.1544 - mean_absolute_error: 353.1544\n",
            "\n",
            "round  40\n",
            "3/3 [==============================] - 0s 2ms/step - loss: 80.9766 - mean_absolute_error: 80.9766\n",
            "\n",
            "round  41\n",
            "3/3 [==============================] - 0s 3ms/step - loss: 389.1198 - mean_absolute_error: 389.1198\n",
            "\n",
            "round  42\n",
            "3/3 [==============================] - 0s 3ms/step - loss: 339.7835 - mean_absolute_error: 339.7835\n",
            "\n",
            "round  43\n",
            "3/3 [==============================] - 0s 3ms/step - loss: 324.5368 - mean_absolute_error: 324.5368\n",
            "\n",
            "round  44\n",
            "3/3 [==============================] - 0s 3ms/step - loss: 20.4864 - mean_absolute_error: 20.4864\n",
            "\n",
            "round  45\n",
            "3/3 [==============================] - 0s 2ms/step - loss: 174.6115 - mean_absolute_error: 174.6115\n",
            "\n",
            "round  46\n",
            "3/3 [==============================] - 0s 3ms/step - loss: 97.2803 - mean_absolute_error: 97.2803\n",
            "\n",
            "round  47\n",
            "3/3 [==============================] - 0s 2ms/step - loss: 320.7170 - mean_absolute_error: 320.7170\n",
            "\n",
            "round  48\n",
            "3/3 [==============================] - 0s 3ms/step - loss: 419.8700 - mean_absolute_error: 419.8700\n",
            "\n",
            "round  49\n",
            "3/3 [==============================] - 0s 3ms/step - loss: 139.6651 - mean_absolute_error: 139.6651\n",
            "\n",
            "round  50\n",
            "3/3 [==============================] - 0s 3ms/step - loss: 370.2177 - mean_absolute_error: 370.2177\n",
            "\n",
            "round  51\n",
            "3/3 [==============================] - 0s 3ms/step - loss: 337.7052 - mean_absolute_error: 337.7052\n",
            "\n",
            "round  52\n",
            "3/3 [==============================] - 0s 3ms/step - loss: 480.4293 - mean_absolute_error: 480.4293\n",
            "\n",
            "round  53\n",
            "3/3 [==============================] - 0s 3ms/step - loss: 234.2400 - mean_absolute_error: 234.2400\n",
            "\n",
            "round  54\n",
            "3/3 [==============================] - 0s 3ms/step - loss: 352.4872 - mean_absolute_error: 352.4872\n",
            "\n",
            "round  55\n",
            "3/3 [==============================] - 0s 3ms/step - loss: 194.0277 - mean_absolute_error: 194.0277\n",
            "\n",
            "round  56\n",
            "3/3 [==============================] - 0s 3ms/step - loss: 129.0097 - mean_absolute_error: 129.0097\n",
            "\n",
            "round  57\n",
            "3/3 [==============================] - 0s 3ms/step - loss: 317.3102 - mean_absolute_error: 317.3102\n",
            "\n",
            "round  58\n",
            "3/3 [==============================] - 0s 3ms/step - loss: 191.5251 - mean_absolute_error: 191.5251\n",
            "\n",
            "round  59\n",
            "3/3 [==============================] - 0s 3ms/step - loss: 93.2810 - mean_absolute_error: 93.2810\n",
            "\n",
            "round  60\n",
            "3/3 [==============================] - 0s 3ms/step - loss: 67.1446 - mean_absolute_error: 67.1446\n",
            "\n",
            "round  61\n",
            "3/3 [==============================] - 0s 3ms/step - loss: 173.4697 - mean_absolute_error: 173.4697\n",
            "\n",
            "round  62\n",
            "3/3 [==============================] - 0s 3ms/step - loss: 15.5596 - mean_absolute_error: 15.5596\n",
            "\n",
            "round  63\n",
            "3/3 [==============================] - 0s 3ms/step - loss: 23.4054 - mean_absolute_error: 23.4054\n",
            "\n",
            "round  64\n",
            "3/3 [==============================] - 0s 3ms/step - loss: 228.6642 - mean_absolute_error: 228.6642\n",
            "\n",
            "round  65\n",
            "3/3 [==============================] - 0s 3ms/step - loss: 83.8198 - mean_absolute_error: 83.8198\n",
            "\n",
            "round  66\n",
            "3/3 [==============================] - 0s 3ms/step - loss: 271.1540 - mean_absolute_error: 271.1540\n",
            "\n",
            "round  67\n",
            "3/3 [==============================] - 0s 3ms/step - loss: 235.1875 - mean_absolute_error: 235.1875\n",
            "\n",
            "round  68\n",
            "3/3 [==============================] - 0s 3ms/step - loss: 297.3274 - mean_absolute_error: 297.3274\n",
            "\n",
            "round  69\n",
            "3/3 [==============================] - 0s 2ms/step - loss: 300.3685 - mean_absolute_error: 300.3685\n",
            "\n",
            "round  70\n",
            "3/3 [==============================] - 0s 4ms/step - loss: 424.8163 - mean_absolute_error: 424.8163\n",
            "\n",
            "round  71\n",
            "3/3 [==============================] - 0s 3ms/step - loss: 50.7985 - mean_absolute_error: 50.7985\n",
            "\n",
            "round  72\n",
            "3/3 [==============================] - 0s 3ms/step - loss: 44.0857 - mean_absolute_error: 44.0857\n",
            "\n",
            "round  73\n",
            "3/3 [==============================] - 0s 3ms/step - loss: 326.7055 - mean_absolute_error: 326.7055\n",
            "\n",
            "round  74\n",
            "3/3 [==============================] - 0s 2ms/step - loss: 314.4498 - mean_absolute_error: 314.4498\n",
            "\n",
            "round  75\n",
            "3/3 [==============================] - 0s 3ms/step - loss: 134.8470 - mean_absolute_error: 134.8470\n",
            "\n",
            "round  76\n",
            "3/3 [==============================] - 0s 3ms/step - loss: 147.1262 - mean_absolute_error: 147.1262\n",
            "\n",
            "round  77\n",
            "3/3 [==============================] - 0s 3ms/step - loss: 261.7517 - mean_absolute_error: 261.7517\n",
            "\n",
            "round  78\n",
            "3/3 [==============================] - 0s 3ms/step - loss: 248.2872 - mean_absolute_error: 248.2872\n",
            "\n",
            "round  79\n",
            "3/3 [==============================] - 0s 3ms/step - loss: 370.2420 - mean_absolute_error: 370.2420\n",
            "\n",
            "round  80\n",
            "3/3 [==============================] - 0s 2ms/step - loss: 125.8990 - mean_absolute_error: 125.8990\n",
            "\n",
            "round  81\n",
            "3/3 [==============================] - 0s 3ms/step - loss: 29.9494 - mean_absolute_error: 29.9494\n",
            "\n",
            "round  82\n",
            "3/3 [==============================] - 0s 3ms/step - loss: 142.0082 - mean_absolute_error: 142.0082\n",
            "\n",
            "round  83\n",
            "3/3 [==============================] - 0s 3ms/step - loss: 105.2460 - mean_absolute_error: 105.2460\n",
            "\n",
            "round  84\n",
            "3/3 [==============================] - 0s 3ms/step - loss: 110.3019 - mean_absolute_error: 110.3019\n",
            "\n",
            "round  85\n",
            "3/3 [==============================] - 0s 3ms/step - loss: 411.3929 - mean_absolute_error: 411.3929\n",
            "\n",
            "round  86\n",
            "3/3 [==============================] - 0s 2ms/step - loss: 333.6379 - mean_absolute_error: 333.6379\n",
            "\n",
            "round  87\n",
            "3/3 [==============================] - 0s 2ms/step - loss: 330.9876 - mean_absolute_error: 330.9876\n",
            "\n",
            "round  88\n",
            "3/3 [==============================] - 0s 3ms/step - loss: 196.7331 - mean_absolute_error: 196.7331\n",
            "\n",
            "round  89\n",
            "3/3 [==============================] - 0s 3ms/step - loss: 165.3589 - mean_absolute_error: 165.3589\n",
            "\n",
            "round  90\n",
            "3/3 [==============================] - 0s 3ms/step - loss: 288.6801 - mean_absolute_error: 288.6801\n",
            "\n",
            "round  91\n",
            "3/3 [==============================] - 0s 3ms/step - loss: 271.6813 - mean_absolute_error: 271.6813\n",
            "\n",
            "round  92\n",
            "3/3 [==============================] - 0s 3ms/step - loss: 279.1524 - mean_absolute_error: 279.1524\n",
            "\n",
            "round  93\n",
            "3/3 [==============================] - 0s 3ms/step - loss: 106.1728 - mean_absolute_error: 106.1728\n",
            "\n",
            "round  94\n",
            "3/3 [==============================] - 0s 3ms/step - loss: 225.4141 - mean_absolute_error: 225.4141\n",
            "\n",
            "round  95\n",
            "3/3 [==============================] - 0s 3ms/step - loss: 449.9462 - mean_absolute_error: 449.9462\n",
            "\n",
            "round  96\n",
            "3/3 [==============================] - 0s 2ms/step - loss: 343.5531 - mean_absolute_error: 343.5531\n",
            "\n",
            "round  97\n",
            "3/3 [==============================] - 0s 3ms/step - loss: 327.1787 - mean_absolute_error: 327.1787\n",
            "\n",
            "round  98\n",
            "3/3 [==============================] - 0s 3ms/step - loss: 273.9354 - mean_absolute_error: 273.9354\n",
            "\n",
            "round  99\n",
            "3/3 [==============================] - 0s 3ms/step - loss: 377.0698 - mean_absolute_error: 377.0698\n",
            "\n",
            "round  100\n",
            "3/3 [==============================] - 0s 3ms/step - loss: 195.0403 - mean_absolute_error: 195.0403\n",
            "\n"
          ],
          "name": "stdout"
        }
      ]
    },
    {
      "cell_type": "code",
      "metadata": {
        "id": "PAJyDzJ6manm",
        "colab": {
          "base_uri": "https://localhost:8080/"
        },
        "outputId": "65afdc62-2479-4d75-b934-27e094c7faef"
      },
      "source": [
        "evaluate(server_state)"
      ],
      "execution_count": null,
      "outputs": [
        {
          "output_type": "stream",
          "text": [
            "3/3 [==============================] - 0s 3ms/step - loss: 354.7229 - mean_absolute_error: 354.7229\n"
          ],
          "name": "stdout"
        }
      ]
    },
    {
      "cell_type": "code",
      "metadata": {
        "id": "DsL-QN9Wiyww"
      },
      "source": [
        ""
      ],
      "execution_count": null,
      "outputs": []
    }
  ]
}